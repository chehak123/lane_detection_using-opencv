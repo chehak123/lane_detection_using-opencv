{
 "cells": [
  {
   "cell_type": "code",
   "execution_count": 1,
   "metadata": {},
   "outputs": [],
   "source": [
    "import matplotlib.pylab as plt\n"
   ]
  },
  {
   "cell_type": "code",
   "execution_count": 2,
   "metadata": {},
   "outputs": [],
   "source": [
    "import cv2"
   ]
  },
  {
   "cell_type": "code",
   "execution_count": 3,
   "metadata": {},
   "outputs": [],
   "source": [
    "import numpy as np"
   ]
  },
  {
   "cell_type": "code",
   "execution_count": 4,
   "metadata": {},
   "outputs": [],
   "source": [
    "cap = cv2.VideoCapture('./Downloads/chehak.MP4')"
   ]
  },
  {
   "cell_type": "code",
   "execution_count": 5,
   "metadata": {},
   "outputs": [],
   "source": [
    "def croppedi(frame):\n",
    "    cropped = gray[300:,:]\n",
    "    return cropped"
   ]
  },
  {
   "cell_type": "code",
   "execution_count": 6,
   "metadata": {},
   "outputs": [],
   "source": [
    "def blurred(frame):\n",
    "    blur=cv2.GaussianBlur(a,(5,5),1)\n",
    "    return blur"
   ]
  },
  {
   "cell_type": "code",
   "execution_count": 7,
   "metadata": {},
   "outputs": [],
   "source": [
    "def threshold(frame):\n",
    "    ret,th3=cv2.threshold(c,127,255,cv2.THRESH_BINARY)\n",
    "    return th3"
   ]
  },
  {
   "cell_type": "code",
   "execution_count": 8,
   "metadata": {},
   "outputs": [],
   "source": [
    "def closingi(frame):\n",
    "    closing = cv2.morphologyEx(d, cv2.MORPH_CLOSE, kernel)\n",
    "    return closing"
   ]
  },
  {
   "cell_type": "code",
   "execution_count": 9,
   "metadata": {},
   "outputs": [],
   "source": [
    "def openingi(frame):\n",
    "    opening = cv2.morphologyEx(p, cv2.MORPH_OPEN, kernel)\n",
    "    return opening"
   ]
  },
  {
   "cell_type": "code",
   "execution_count": 10,
   "metadata": {},
   "outputs": [],
   "source": [
    "def dilationi(frame):\n",
    "    dilation = cv2.dilate(g,kernel,iterations = 1)\n",
    "    return dilation"
   ]
  },
  {
   "cell_type": "code",
   "execution_count": 11,
   "metadata": {},
   "outputs": [],
   "source": [
    "def cannyedge(frame):\n",
    "    edges = cv2.Canny(hi,100,200)\n",
    "    return edges"
   ]
  },
  {
   "cell_type": "code",
   "execution_count": 12,
   "metadata": {},
   "outputs": [],
   "source": [
    "while(cap.isOpened()):\n",
    "    ret, frame = cap.read()\n",
    "    gray = cv2.cvtColor(frame, cv2.COLOR_BGR2GRAY)\n",
    "    kernel = np.ones((5, 5), np.uint8)\n",
    "    \n",
    "    a=croppedi(frame)\n",
    "    c=blurred(a)\n",
    "    d=threshold(c)\n",
    "    p=closingi(d)\n",
    "    g=openingi(p)\n",
    "    h=dilationi(g)\n",
    "        \n",
    "#     i=cannyedge(h)\n",
    "    \n",
    "    lines = cv2.HoughLinesP(h, 12, np.pi/20, 200, minLineLength=20, maxLineGap=20)\n",
    "    for line in lines:\n",
    "        x1, y1, x2, y2 = line[0]\n",
    "        hi= cv2.line(d, (x1, y1), (x2, y2), (255, 0, 0), 3)\n",
    "\n",
    "    i=cannyedge(hi)\n",
    "    cv2.imshow('frame',i)\n",
    "    if cv2.waitKey(1) & 0xFF == ord('q'):\n",
    "        break\n",
    "        \n",
    "cap.release()\n",
    "cv2.destroyAllWindows()    "
   ]
  },
  {
   "cell_type": "code",
   "execution_count": null,
   "metadata": {},
   "outputs": [],
   "source": []
  },
  {
   "cell_type": "code",
   "execution_count": null,
   "metadata": {},
   "outputs": [],
   "source": []
  }
 ],
 "metadata": {
  "kernelspec": {
   "display_name": "Python 3",
   "language": "python",
   "name": "python3"
  },
  "language_info": {
   "codemirror_mode": {
    "name": "ipython",
    "version": 3
   },
   "file_extension": ".py",
   "mimetype": "text/x-python",
   "name": "python",
   "nbconvert_exporter": "python",
   "pygments_lexer": "ipython3",
   "version": "3.7.4"
  }
 },
 "nbformat": 4,
 "nbformat_minor": 2
}
